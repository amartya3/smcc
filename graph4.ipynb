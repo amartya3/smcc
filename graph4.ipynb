{
 "cells": [
  {
   "cell_type": "code",
   "execution_count": null,
   "metadata": {},
   "outputs": [],
   "source": [
    "!pip install pycairo"
   ]
  },
  {
   "cell_type": "code",
   "execution_count": null,
   "metadata": {},
   "outputs": [],
   "source": [
    "# Import packages\n",
    "%matplotlib inline\n",
    "import matplotlib.pyplot as plt\n",
    "from random import uniform, seed\n",
    "import numpy as np\n",
    "import pandas as pd\n",
    "import time\n",
    "from igraph import *\n",
    "import csv"
   ]
  },
  {
   "cell_type": "code",
   "execution_count": null,
   "metadata": {},
   "outputs": [],
   "source": [
    "# Generate Graph , nodes=10, edges=30 and export to csv\n",
    "G = Graph.Erdos_Renyi(n=10000,m=30000,directed=True)\n",
    "\n",
    "# Plot Graph\n",
    "G.es[\"color\"], G.vs[\"color\"], G.vs[\"label\"] = \"#B3CDE3\", \"#FBB4AE\", \"\"\n",
    "#plot(G, bbox = (300, 300),margin = 11,layout = G.layout(\"kk\"))\n",
    "\n",
    "d=G.get_edgelist()\n",
    "\n",
    "with open('d.csv', 'w') as f:\n",
    "      \n",
    "    # using csv.writer method from CSV package\n",
    "    write = csv.writer(f)\n",
    "      \n",
    "    #write.writerow(fields)\n",
    "    write.writerows(d)"
   ]
  },
  {
   "cell_type": "code",
   "execution_count": null,
   "metadata": {},
   "outputs": [],
   "source": [
    "#Read csv as Graph object\n",
    "\n",
    "df=pd.read_csv(\"d.csv\", header=None)"
   ]
  },
  {
   "cell_type": "code",
   "execution_count": null,
   "metadata": {},
   "outputs": [],
   "source": [
    "df"
   ]
  },
  {
   "cell_type": "code",
   "execution_count": null,
   "metadata": {},
   "outputs": [],
   "source": [
    "source=df[0]\n",
    "s=list(source)\n",
    "\n",
    "target=df[1]\n",
    "t=target.tolist()\n",
    "\n",
    "g1 = Graph(directed=True)\n",
    "g1.add_vertices(range(10000))\n",
    "g1.add_edges(zip(s,t))\n",
    "\n",
    "# Plot graph\n",
    "g1.vs[\"label\"], g1.es[\"color\"], g1.vs[\"color\"] = range(1000), \"#B3CDE3\", \"#FBB4AE\"\n",
    "#png(\"my_plot.png\", 600, 600)\n",
    "#dev.off()\n",
    "#plot(g1,bbox = (200,200),margin = 20, layout = g1.layout(\"kk\"),)\n",
    "#plot(g1, \"g4.png\", dpi=300)"
   ]
  },
  {
   "cell_type": "code",
   "execution_count": null,
   "metadata": {},
   "outputs": [],
   "source": [
    "#convert df by adding compatibility factor\n",
    "\n",
    "df['compf'] = np.random.randint(0,2, size=len(df))"
   ]
  },
  {
   "cell_type": "code",
   "execution_count": null,
   "metadata": {},
   "outputs": [],
   "source": [
    "df"
   ]
  },
  {
   "cell_type": "code",
   "execution_count": null,
   "metadata": {},
   "outputs": [],
   "source": [
    "#removing entries where compatibility = 0\n",
    "df1= df[df['compf'] != 0]"
   ]
  },
  {
   "cell_type": "code",
   "execution_count": null,
   "metadata": {},
   "outputs": [],
   "source": [
    "df1"
   ]
  },
  {
   "cell_type": "code",
   "execution_count": null,
   "metadata": {},
   "outputs": [],
   "source": [
    "#regenerating graph\n",
    "\n",
    "source=df1[0]\n",
    "s=list(source)\n",
    "\n",
    "target=df1[1]\n",
    "t=target.tolist()\n",
    "\n",
    "g2 = Graph(directed=True)\n",
    "g2.add_vertices(range(10000))\n",
    "g2.add_edges(zip(s,t))\n",
    "\n",
    "g2.vs.select(_degree=0).delete()\n",
    "\n",
    "# Plot graph\n",
    "#g2.vs[\"label\"], g2.es[\"color\"], g2.vs[\"color\"] = range(1000), \"#B3CDE3\", \"#FBB4AE\"\n",
    "#png(\"my_plot.png\", 600, 600)\n",
    "#dev.off()\n",
    "#plot(g2,bbox = (200,200),margin = 20,layout = g2.layout(\"kk\"),)\n",
    "#plot(g2, \"g3_modified.png\", dpi=300)"
   ]
  },
  {
   "cell_type": "code",
   "execution_count": null,
   "metadata": {},
   "outputs": [],
   "source": [
    "def IC(g,S,p=0.5,mc=1000):\n",
    "    \"\"\"\n",
    "    Input:  graph object, set of seed nodes, propagation probability\n",
    "            and the number of Monte-Carlo simulations\n",
    "    Output: average number of nodes influenced by the seed nodes\n",
    "    \"\"\"\n",
    "    \n",
    "    # Loop over the Monte-Carlo Simulations\n",
    "    spread = []\n",
    "    for i in range(mc):\n",
    "        \n",
    "        # Simulate propagation process      \n",
    "        new_active, A = S[:], S[:]\n",
    "        while new_active:\n",
    "\n",
    "            # For each newly active node, find its neighbors that become activated\n",
    "            new_ones = []\n",
    "            for node in new_active:\n",
    "                \n",
    "                # Determine neighbors that become infected\n",
    "                np.random.seed(i)\n",
    "                success = np.random.uniform(0,1,len(g.neighbors(node,mode=\"out\"))) < p\n",
    "                new_ones += list(np.extract(success, g.neighbors(node,mode=\"out\")))\n",
    "\n",
    "            new_active = list(set(new_ones) - set(A))\n",
    "            \n",
    "            # Add newly activated nodes to the set of activated nodes\n",
    "            A += new_active\n",
    "            \n",
    "        spread.append(len(A))\n",
    "        print(A)\n",
    "        \n",
    "    return(np.mean(spread))\n"
   ]
  },
  {
   "cell_type": "code",
   "execution_count": null,
   "metadata": {},
   "outputs": [],
   "source": [
    "def celf(g,k,p=0.1,mc=1000):  \n",
    "    \"\"\"\n",
    "    Input:  graph object, number of seed nodes\n",
    "    Output: optimal seed set, resulting spread, time for each iteration\n",
    "    \"\"\"\n",
    "      \n",
    "    # --------------------\n",
    "    # Find the first node with greedy algorithm\n",
    "    # --------------------\n",
    "    \n",
    "    # Calculate the first iteration sorted list\n",
    "    start_time = time.time() \n",
    "    marg_gain = [IC(g,[node],p,mc) for node in range(g.vcount())]\n",
    "\n",
    "    # Create the sorted list of nodes and their marginal gain \n",
    "    Q = sorted(zip(range(g.vcount()),marg_gain), key=lambda x: x[1],reverse=True)\n",
    "\n",
    "    # Select the first node and remove from candidate list\n",
    "    S, spread, SPREAD = [Q[0][0]], Q[0][1], [Q[0][1]]\n",
    "    Q, LOOKUPS, timelapse = Q[1:], [g.vcount()], [time.time()-start_time]\n",
    "    \n",
    "    # --------------------\n",
    "    # Find the next k-1 nodes using the list-sorting procedure\n",
    "    # --------------------\n",
    "    \n",
    "    for _ in range(k-1):    \n",
    "\n",
    "        check, node_lookup = False, 0\n",
    "        \n",
    "        while not check:\n",
    "            \n",
    "            # Count the number of times the spread is computed\n",
    "            node_lookup += 1\n",
    "            \n",
    "            # Recalculate spread of top node\n",
    "            current = Q[0][0]\n",
    "            \n",
    "            # Evaluate the spread function and store the marginal gain in the list\n",
    "            Q[0] = (current,IC(g,S+[current],p,mc) - spread)\n",
    "\n",
    "            # Re-sort the list\n",
    "            Q = sorted(Q, key = lambda x: x[1], reverse = True)\n",
    "\n",
    "            # Check if previous top node stayed on top after the sort\n",
    "            check = (Q[0][0] == current)\n",
    "\n",
    "        # Select the next node\n",
    "        spread += Q[0][1]\n",
    "        S.append(Q[0][0])\n",
    "        SPREAD.append(spread)\n",
    "        LOOKUPS.append(node_lookup)\n",
    "        timelapse.append(time.time() - start_time)\n",
    "\n",
    "        # Remove the selected node from the list\n",
    "        Q = Q[1:]\n",
    "\n",
    "    return(S,SPREAD,timelapse,LOOKUPS)\n"
   ]
  },
  {
   "cell_type": "code",
   "execution_count": null,
   "metadata": {},
   "outputs": [],
   "source": [
    "def greedy(g,k,p=0.1,mc=1000):\n",
    "    \"\"\"\n",
    "    Input:  graph object, number of seed nodes\n",
    "    Output: optimal seed set, resulting spread, time for each iteration\n",
    "    \"\"\"\n",
    "\n",
    "    S, spread, timelapse, start_time = [], [], [], time.time()\n",
    "    \n",
    "    # Find k nodes with largest marginal gain\n",
    "    for _ in range(k):\n",
    "\n",
    "        # Loop over nodes that are not yet in seed set to find biggest marginal gain\n",
    "        best_spread = 0\n",
    "        for j in set(range(g.vcount()))-set(S):\n",
    "\n",
    "            # Get the spread\n",
    "            s = IC(g,S + [j],p,mc)\n",
    "\n",
    "            # Update the winning node and spread so far\n",
    "            if s > best_spread:\n",
    "                best_spread, node = s, j\n",
    "\n",
    "        # Add the selected node to the seed set\n",
    "        S.append(node)\n",
    "        print(S)\n",
    "        \n",
    "        # Add estimated spread and elapsed time\n",
    "        spread.append(best_spread)\n",
    "        timelapse.append(time.time() - start_time)\n",
    "\n",
    "    return(S,spread,timelapse)\n"
   ]
  },
  {
   "cell_type": "code",
   "execution_count": null,
   "metadata": {},
   "outputs": [],
   "source": [
    "# Run algorithms with unmodified graph\n",
    "celf_output1   = celf(g1,10,p = 0.1,mc = 1000)\n",
    "\n",
    "# Print resulting seed sets\n",
    "#print(\"celf output:   \" + str(celf_output1[0]))\n",
    "#print(\"greedy output: \" + str(greedy_output1[0]))\n"
   ]
  },
  {
   "cell_type": "code",
   "execution_count": null,
   "metadata": {},
   "outputs": [],
   "source": [
    "greedy_output1 = greedy(g1,10,p = 0.1,mc = 1000)\n"
   ]
  },
  {
   "cell_type": "code",
   "execution_count": null,
   "metadata": {},
   "outputs": [],
   "source": [
    "celf_output1"
   ]
  },
  {
   "cell_type": "code",
   "execution_count": null,
   "metadata": {},
   "outputs": [],
   "source": [
    "greedy_output1"
   ]
  },
  {
   "cell_type": "code",
   "execution_count": null,
   "metadata": {},
   "outputs": [],
   "source": [
    "# Run algorithms\n",
    "celf_output2   = celf(g2,10,p = 0.1,mc = 1000)\n",
    "greedy_output2 = greedy(g2,10,p = 0.1,mc = 1000)\n",
    "\n",
    "# Print resulting seed sets\n",
    "print(\"celf output:   \" + str(celf_output2[0]))\n",
    "print(\"greedy output: \" + str(greedy_output2[0]))\n"
   ]
  },
  {
   "cell_type": "code",
   "execution_count": null,
   "metadata": {},
   "outputs": [],
   "source": [
    "celf_output2"
   ]
  },
  {
   "cell_type": "code",
   "execution_count": null,
   "metadata": {},
   "outputs": [],
   "source": [
    "# Plot settings\n",
    "plt.rcParams['figure.figsize'] = (9,6)\n",
    "plt.rcParams['lines.linewidth'] = 4\n",
    "plt.rcParams['xtick.bottom'] = False\n",
    "plt.rcParams['ytick.left'] = False\n",
    "\n",
    "# Plot Computation Time\n",
    "plt.plot(range(1,len(greedy_output1[2])+1),greedy_output1[2],label=\"Greedy\",color=\"green\")\n",
    "plt.plot(range(1,len(celf_output1[2])+1),celf_output1[2],label=\"CELF\",color=\"yellow\")\n",
    "plt.ylabel('Computation Time (Seconds)'); plt.xlabel('Size of Seed Set')\n",
    "plt.title('Computation Time'); plt.legend(loc=2);\n"
   ]
  },
  {
   "cell_type": "code",
   "execution_count": null,
   "metadata": {},
   "outputs": [],
   "source": [
    "# Plot settings\n",
    "plt.rcParams['figure.figsize'] = (9,6)\n",
    "plt.rcParams['lines.linewidth'] = 4\n",
    "plt.rcParams['xtick.bottom'] = False\n",
    "plt.rcParams['ytick.left'] = False\n",
    "\n",
    "# Plot Computation Time\n",
    "plt.plot(range(1,len(greedy_output2[2])+1),greedy_output2[2],label=\"Greedy\",color=\"red\")\n",
    "plt.plot(range(1,len(celf_output2[2])+1),celf_output2[2],label=\"CELF\",color=\"blue\")\n",
    "plt.ylabel('Computation Time (Seconds)'); plt.xlabel('Size of Seed Set')\n",
    "plt.title('Computation Time'); plt.legend(loc=2);"
   ]
  },
  {
   "cell_type": "code",
   "execution_count": null,
   "metadata": {},
   "outputs": [],
   "source": [
    "# Plot settings\n",
    "plt.rcParams['figure.figsize'] = (9,6)\n",
    "plt.rcParams['lines.linewidth'] = 4\n",
    "plt.rcParams['xtick.bottom'] = False\n",
    "plt.rcParams['ytick.left'] = False\n",
    "\n",
    "# Plot Computation Time\n",
    "plt.plot(range(1,len(greedy_output1[2])+1),greedy_output1[2],label=\"Greedy\",color=\"green\")\n",
    "plt.plot(range(1,len(celf_output1[2])+1),celf_output1[2],label=\"CELF\",color=\"yellow\")\n",
    "plt.plot(range(1,len(greedy_output2[2])+1),greedy_output2[2],label=\"Context Aware Greedy\",color=\"red\")\n",
    "plt.plot(range(1,len(celf_output2[2])+1),celf_output2[2],label=\"Context Aware CELF\",color=\"blue\")\n",
    "plt.ylabel('Computation Time (Seconds)'); plt.xlabel('Size of Seed Set')\n",
    "plt.title('Computation Time'); plt.legend(loc=2);\n",
    "plt.tight_layout()\n",
    "plt.savefig(\"g4i.jpg\", dpi=300)"
   ]
  },
  {
   "cell_type": "code",
   "execution_count": null,
   "metadata": {},
   "outputs": [],
   "source": [
    "plt.plot(range(1,len(greedy_output1[1])+1),greedy_output1[1],label=\"Greedy\",color=\"green\")\n",
    "plt.plot(range(1,len(celf_output1[1])+1),celf_output1[1],label=\"CELF\",color=\"yellow\")\n",
    "plt.plot(range(1,len(greedy_output2[1])+1),greedy_output2[1],label=\"Context Aware Greedy\",color=\"red\")\n",
    "plt.plot(range(1,len(celf_output2[1])+1),celf_output2[1],label=\"Context Aware CELF\",color=\"blue\")\n",
    "plt.xlabel('Size of Seed Set'); plt.ylabel('Expected Spread')\n",
    "plt.title('Expected Spread'); plt.legend(loc=2);\n",
    "plt.tight_layout()\n",
    "plt.savefig(\"g4ii.jpg\", dpi=300)"
   ]
  },
  {
   "cell_type": "code",
   "execution_count": null,
   "metadata": {},
   "outputs": [],
   "source": []
  }
 ],
 "metadata": {
  "kernelspec": {
   "display_name": "Python 3 (ipykernel)",
   "language": "python",
   "name": "python3"
  },
  "language_info": {
   "codemirror_mode": {
    "name": "ipython",
    "version": 3
   },
   "file_extension": ".py",
   "mimetype": "text/x-python",
   "name": "python",
   "nbconvert_exporter": "python",
   "pygments_lexer": "ipython3",
   "version": "3.9.12"
  }
 },
 "nbformat": 4,
 "nbformat_minor": 2
}
